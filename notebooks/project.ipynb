{
 "cells": [
  {
   "cell_type": "markdown",
   "id": "1a860edb-16e8-4a5d-9393-178f9620c238",
   "metadata": {},
   "source": [
    "# Импорт необходимых библиотек"
   ]
  },
  {
   "cell_type": "code",
   "execution_count": 45,
   "id": "ba897f11-ee68-4db4-9f2b-ae2e5d49d899",
   "metadata": {},
   "outputs": [],
   "source": [
    "import os\n",
    "from dotenv import load_dotenv\n",
    "from minio import Minio\n",
    "import boto3\n",
    "from pyspark.sql import SparkSession\n",
    "import requests\n",
    "import logging"
   ]
  },
  {
   "cell_type": "markdown",
   "id": "a8a31068-a2f1-40e3-8f53-275765e1d9c3",
   "metadata": {},
   "source": [
    "# Подключение к Minio через библиотеку boto3 "
   ]
  },
  {
   "cell_type": "code",
   "execution_count": 31,
   "id": "778ad097-c3b4-4786-8e2f-a3674d2276fb",
   "metadata": {},
   "outputs": [
    {
     "name": "stdout",
     "output_type": "stream",
     "text": [
      "Подключение к MinIO через boto3 успешно. Список бакетов:\n",
      "  - project\n"
     ]
    }
   ],
   "source": [
    "load_dotenv()\n",
    "\n",
    "# Получаем переменные\n",
    "endpoint = os.getenv(\"MINIO_ENDPOINT\") # для airflow нужно будет переписать чтобы значения брались из Variables\n",
    "access_key = os.getenv(\"MINIO_ACCESS_KEY\")\n",
    "secret_key = os.getenv(\"MINIO_SECRET_KEY\")\n",
    "\n",
    "# Подключаемся к MinIO\n",
    "s3 = boto3.client(\n",
    "    's3',\n",
    "    endpoint_url=f\"http://{endpoint}\",\n",
    "    aws_access_key_id=access_key,\n",
    "    aws_secret_access_key=secret_key\n",
    "\n",
    ")\n",
    "\n",
    "# Проверяем список бакетов\n",
    "try:\n",
    "    buckets = s3.list_buckets()\n",
    "    print(\"Подключение к MinIO через boto3 успешно. Список бакетов:\")\n",
    "    for b in buckets['Buckets']:\n",
    "        print(f\"  - {b['Name']}\")\n",
    "except Exception as e:\n",
    "    print(\"Ошибка подключения к MinIO:\", e)"
   ]
  },
  {
   "cell_type": "markdown",
   "id": "74e374b0-3430-4a9d-8c2e-aaa68b1cda4c",
   "metadata": {},
   "source": [
    "# Подключение к Minio через библиотеку Minio "
   ]
  },
  {
   "cell_type": "code",
   "execution_count": 41,
   "id": "2b56e1bd-7a84-4148-babc-e89c68855023",
   "metadata": {},
   "outputs": [
    {
     "name": "stdout",
     "output_type": "stream",
     "text": [
      "Подключение к MinIO через MinIO успешно. Список бакетов:\n",
      " - project\n"
     ]
    }
   ],
   "source": [
    "client = Minio(\n",
    "    endpoint=os.getenv(\"MINIO_ENDPOINT\"), # для airflow нужно будет переписать чтобы значения брались из Variables\n",
    "    access_key=os.getenv(\"MINIO_ACCESS_KEY\"),\n",
    "    secret_key=os.getenv(\"MINIO_SECRET_KEY\"),\n",
    "    secure=False  \n",
    ")\n",
    "\n",
    "# Проверяем список бакетов\n",
    "try:\n",
    "    buckets = client.list_buckets()\n",
    "    print(\"Подключение к MinIO через MinIO успешно. Список бакетов:\")\n",
    "    for b in buckets:\n",
    "        print(f' - {b.name}')\n",
    "except Exception as e:\n",
    "    print(\"Ошибка подключения к MinIO:\", e)"
   ]
  },
  {
   "cell_type": "markdown",
   "id": "f418fbc2-8e36-4700-93fd-b1fcc2587642",
   "metadata": {},
   "source": [
    "# Проверка SparkSession "
   ]
  },
  {
   "cell_type": "code",
   "execution_count": 43,
   "id": "aaf8eb5c-412d-4314-8517-dbc3e853b605",
   "metadata": {},
   "outputs": [
    {
     "name": "stdout",
     "output_type": "stream",
     "text": [
      "+---+\n",
      "| id|\n",
      "+---+\n",
      "|  0|\n",
      "|  1|\n",
      "|  2|\n",
      "|  3|\n",
      "|  4|\n",
      "|  5|\n",
      "|  6|\n",
      "|  7|\n",
      "|  8|\n",
      "|  9|\n",
      "+---+\n",
      "\n"
     ]
    }
   ],
   "source": [
    "spark = SparkSession.builder \\\n",
    "    .appName(\"MinIO Test\") \\\n",
    "    .getOrCreate()\n",
    "\n",
    "df = spark.range(10)\n",
    "df.show()"
   ]
  },
  {
   "cell_type": "markdown",
   "id": "03561232-96d9-4476-81fd-d6525024dbb3",
   "metadata": {},
   "source": [
    "# Получаем данные по API"
   ]
  },
  {
   "cell_type": "code",
   "execution_count": 55,
   "id": "bdbe37b9-b575-4a41-8f97-5795624187d8",
   "metadata": {},
   "outputs": [
    {
     "data": {
      "text/plain": [
       "{'response': [{'id': 8,\n",
       "   'title': 'Продукты питания',\n",
       "   'icon': 'https://rskrf.ru/upload/api/icons/8.png',\n",
       "   'thumbnail': 'https://rskrf.ru/upload/resize_cache/iblock/069/195_125_240cd750bba9870f18aada2478b24840a/mu8qpc1orxv25xb0qssfguide48perub.png'},\n",
       "  {'id': 28,\n",
       "   'title': 'Напитки',\n",
       "   'icon': 'https://rskrf.ru/upload/api/icons/28.png',\n",
       "   'thumbnail': 'https://rskrf.ru/upload/resize_cache/iblock/15e/195_125_240cd750bba9870f18aada2478b24840a/50wxtjavm3fsiluopd18lu6k2illkmk9.png'},\n",
       "  {'id': 11,\n",
       "   'title': 'Товары для авто',\n",
       "   'icon': 'https://rskrf.ru/upload/api/icons/11.png',\n",
       "   'thumbnail': 'https://rskrf.ru/upload/resize_cache/iblock/207/195_125_240cd750bba9870f18aada2478b24840a/97g2rvol7xqyjyz0hxkuj27ch0iq6poq.png'},\n",
       "  {'id': 5,\n",
       "   'title': 'Товары для дома',\n",
       "   'icon': 'https://rskrf.ru/upload/api/icons/5.png',\n",
       "   'thumbnail': 'https://rskrf.ru/upload/resize_cache/iblock/a3f/195_125_240cd750bba9870f18aada2478b24840a/3fytpy446czj6re3ln6dxndo22lu39i1.png'},\n",
       "  {'id': 7,\n",
       "   'title': 'Одежда и обувь',\n",
       "   'icon': 'https://rskrf.ru/upload/api/icons/7.png',\n",
       "   'thumbnail': 'https://rskrf.ru/upload/resize_cache/iblock/b37/195_125_240cd750bba9870f18aada2478b24840a/q9f5llk1eg9ugh33l4rcg4dyavgzkb66.png'},\n",
       "  {'id': 9,\n",
       "   'title': 'Красота и здоровье',\n",
       "   'icon': 'https://rskrf.ru/upload/api/icons/9.png',\n",
       "   'thumbnail': 'https://rskrf.ru/upload/resize_cache/iblock/95b/195_125_240cd750bba9870f18aada2478b24840a/7advn82r5objgcytc1d6dv742sjj5zs1.png'},\n",
       "  {'id': 30,\n",
       "   'title': 'Техника и технологии',\n",
       "   'icon': 'https://rskrf.ru/upload/api/icons/30.png',\n",
       "   'thumbnail': 'https://rskrf.ru/upload/resize_cache/iblock/23d/195_125_240cd750bba9870f18aada2478b24840a/mi56iv83yk23ruq1rquf1ik0mg52mw5a.png'},\n",
       "  {'id': 606,\n",
       "   'title': 'Товары для детей',\n",
       "   'icon': 'https://rskrf.ru/upload/api/icons/606.png',\n",
       "   'thumbnail': 'https://rskrf.ru/upload/resize_cache/iblock/24e/195_125_240cd750bba9870f18aada2478b24840a/a5bspbuwn72xp6jg8p41oiwp87ulymqq.png'}],\n",
       " 'message': []}"
      ]
     },
     "execution_count": 55,
     "metadata": {},
     "output_type": "execute_result"
    }
   ],
   "source": [
    "def get_api_data(env_name):\n",
    "    load_dotenv()\n",
    "    # Получаем ссылку из файла .env\n",
    "    api_url = os.getenv(env_name) # для airflow нужно будет переписать чтобы значения брались из Variables\n",
    "    # Проверка наличия ссылки\n",
    "    if not api_url:\n",
    "        logging.error(f'Указанный URL не задан в файле .env')\n",
    "        return None\n",
    "    try:\n",
    "        response = requests.get(api_url)\n",
    "        if response.status_code == 200:\n",
    "            data = response.json()\n",
    "            logging.info('Данные успешно загружены')\n",
    "            return data\n",
    "        else:\n",
    "            logging.error(f'Error: {response.status_code} - Данные не загружены')\n",
    "            return None\n",
    "    except:\n",
    "        logging.error(f'Error{e} - Данные не загружены')\n",
    "        raise\n",
    "\n",
    "get_api_data('CATEGORIES')"
   ]
  },
  {
   "cell_type": "markdown",
   "id": "6287e45e-c426-4b26-8c1e-6ac79a4a37c2",
   "metadata": {},
   "source": [
    "# Сохраняем JSON в MinIO"
   ]
  },
  {
   "cell_type": "code",
   "execution_count": null,
   "id": "9e36b1b0-3a4f-48f6-920a-dd8fbe86a51d",
   "metadata": {},
   "outputs": [],
   "source": []
  }
 ],
 "metadata": {
  "kernelspec": {
   "display_name": "Python 3 (ipykernel)",
   "language": "python",
   "name": "python3"
  },
  "language_info": {
   "codemirror_mode": {
    "name": "ipython",
    "version": 3
   },
   "file_extension": ".py",
   "mimetype": "text/x-python",
   "name": "python",
   "nbconvert_exporter": "python",
   "pygments_lexer": "ipython3",
   "version": "3.11.6"
  }
 },
 "nbformat": 4,
 "nbformat_minor": 5
}
